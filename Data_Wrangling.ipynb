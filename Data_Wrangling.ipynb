{
 "cells": [
  {
   "cell_type": "markdown",
   "metadata": {
    "id": "A-n4xhBVp2_S"
   },
   "source": [
    "# Proyecto\n",
    "### Carrela Silva Carlos Francisco Javier"
   ]
  },
  {
   "cell_type": "markdown",
   "metadata": {
    "id": "_RDF1Fmdp2_W"
   },
   "source": [
    "## Importar librerias"
   ]
  },
  {
   "cell_type": "code",
   "execution_count": null,
   "metadata": {
    "id": "ImLGDJkwp2_W"
   },
   "outputs": [],
   "source": [
    "import pandas as pd\n",
    "import numpy as np\n",
    "import pandas as pd\n",
    "import numpy as np\n",
    "# Statistics\n",
    "from scipy.stats import ks_2samp\n",
    "from scipy.stats import chisquare\n",
    "#visualization\n",
    "import cufflinks as cf\n",
    "#reduccion de variables\n",
    "from sklearn.pipeline import Pipeline\n",
    "from sklearn.impute import SimpleImputer\n",
    "from sklearn.preprocessing import MinMaxScaler\n",
    "from sklearn.model_selection import train_test_split, cross_val_score\n",
    "from sklearn.decomposition import PCA\n",
    "from sklearn.feature_selection import SelectKBest, f_regression\n",
    "from sklearn.feature_selection import SelectKBest, f_classif\n",
    "from sklearn.model_selection import train_test_split # pip install scikit-learn\n",
    "from sklearn.preprocessing import KBinsDiscretizer\n",
    "from sklearn.preprocessing import MinMaxScaler, RobustScaler, StandardScaler\n",
    "# from varclushi import VarClusHi\n",
    "import matplotlib.pyplot as plt"
   ]
  },
  {
   "cell_type": "markdown",
   "metadata": {
    "id": "MKKvGOsTp2_Y"
   },
   "source": [
    "## La intencion de nuestro trabajo sera crear un modelo que nos ayude a calcular la apuesta Over de 2 goles de un determinado partido"
   ]
  },
  {
   "cell_type": "markdown",
   "metadata": {
    "id": "L6g9wLK0p2_Y"
   },
   "source": [
    "## Lectura de datos"
   ]
  },
  {
   "cell_type": "code",
   "execution_count": null,
   "metadata": {
    "id": "H9g1lCXlp2_Z"
   },
   "outputs": [],
   "source": [
    "club_games=pd.read_csv(\"./club_games.csv\")\n",
    "clubs=pd.read_csv(\"./clubs.csv\")\n",
    "game_events=pd.read_csv(\"./game_events.csv\")\n",
    "games=pd.read_csv(\"./games.csv\")"
   ]
  },
  {
   "cell_type": "code",
   "execution_count": null,
   "metadata": {
    "colab": {
     "base_uri": "https://localhost:8080/",
     "height": 244
    },
    "id": "XaWS_xRGp2_Z",
    "outputId": "6f5908c4-73fa-4caa-bb9b-f08182b67e4e"
   },
   "outputs": [],
   "source": [
    "club_games.sample(5)"
   ]
  },
  {
   "cell_type": "code",
   "execution_count": null,
   "metadata": {
    "colab": {
     "base_uri": "https://localhost:8080/",
     "height": 365
    },
    "id": "uuUW0nT4p2_a",
    "outputId": "99348a5e-b3e8-4af5-f93d-53ab14970542"
   },
   "outputs": [],
   "source": [
    "clubs.sample(5)"
   ]
  },
  {
   "cell_type": "code",
   "execution_count": null,
   "metadata": {
    "colab": {
     "base_uri": "https://localhost:8080/",
     "height": 224
    },
    "id": "GoKDqPfMp2_a",
    "outputId": "525943fd-6e7e-429f-9adf-582519aaecaf"
   },
   "outputs": [],
   "source": [
    "game_events.sample(5)"
   ]
  },
  {
   "cell_type": "code",
   "execution_count": null,
   "metadata": {
    "colab": {
     "base_uri": "https://localhost:8080/",
     "height": 360
    },
    "id": "fICVu8rCp2_a",
    "outputId": "9a79cadd-0bd7-4065-9777-da4ea3526712"
   },
   "outputs": [],
   "source": [
    "games.sample(5)"
   ]
  },
  {
   "cell_type": "markdown",
   "metadata": {
    "id": "xN0UlLc4p2_b"
   },
   "source": [
    "## Agrupar y unir las tablas\n"
   ]
  },
  {
   "cell_type": "code",
   "execution_count": null,
   "metadata": {
    "id": "Ahi-7HVpp2_b"
   },
   "outputs": [],
   "source": [
    "grouped_game_goals= game_events.groupby([\"game_id\"]).agg({'type': lambda x: sum(x == 'Goals')}).sort_values('game_id')#esta columna nos dira cuantas Goles hubo por partido\n",
    "grouped_game_substitutions= game_events.groupby([\"game_id\"]).agg({'type': lambda x: sum(x == 'Substitutions')}).sort_values('game_id')#esta columna nos dira cuantas sustituciones hubo por partido\n",
    "goals_addedtime=game_events.groupby([\"game_id\"]).agg({'minute': lambda x: sum(x >90)}).sort_values('game_id') #esta columna nos dice el numero de goles en tiempo de compensacion\n",
    "minute_last_goal = game_events.groupby('game_id').apply(lambda x: x.loc[x['type'] == 'Goals', 'minute'].max()).fillna(0).sort_index().reset_index()#minuto del ultimo gol\n",
    "minute_first_goal = game_events.groupby('game_id').apply(lambda x: x.loc[x['type'] == 'Goals', 'minute'].min()).fillna(0).sort_index().reset_index() #minuto del primero gol"
   ]
  },
  {
   "cell_type": "code",
   "execution_count": null,
   "metadata": {
    "colab": {
     "base_uri": "https://localhost:8080/",
     "height": 475
    },
    "id": "X_19R47bp2_b",
    "outputId": "a225cc50-397f-4b99-8584-0abe86583fbb"
   },
   "outputs": [],
   "source": [
    "events=grouped_game_goals\n",
    "events[\"number_game_substitutions\"]=grouped_game_substitutions[\"type\"]\n",
    "events[\"goals_added_time\"]=goals_addedtime[\"minute\"]\n",
    "events[\"minute_last_goal\"]=minute_last_goal.set_index(\"game_id\")[0]\n",
    "events[\"minute_first_goal\"]=minute_first_goal.set_index(\"game_id\")[0]\n",
    "events = events.rename(columns={'type': 'number_goals'})\n",
    "events\n",
    "\n"
   ]
  },
  {
   "cell_type": "code",
   "execution_count": null,
   "metadata": {
    "colab": {
     "base_uri": "https://localhost:8080/",
     "height": 320
    },
    "id": "CFks0P5Qp2_b",
    "outputId": "6ca30025-2739-4fa5-81a9-d3d99d2a6903"
   },
   "outputs": [],
   "source": [
    "events.describe()\n"
   ]
  },
  {
   "cell_type": "code",
   "execution_count": null,
   "metadata": {
    "colab": {
     "base_uri": "https://localhost:8080/",
     "height": 444
    },
    "id": "W_0qLwFlp2_c",
    "outputId": "abffe516-2e55-486f-f744-ed26c1758458"
   },
   "outputs": [],
   "source": [
    "club_games # de esta tabla podemos conservar todo si solo tomamos como referencia a los partidos de locales, de todas formas se incluiran los datos de todos los partidos"
   ]
  },
  {
   "cell_type": "code",
   "execution_count": null,
   "metadata": {
    "colab": {
     "base_uri": "https://localhost:8080/",
     "height": 739
    },
    "id": "GDmLECoup2_c",
    "outputId": "66f99c6b-35a1-4757-ced0-850488d34c71"
   },
   "outputs": [],
   "source": [
    "\n",
    "#la tabla games esta lista para usar\n",
    "games"
   ]
  },
  {
   "cell_type": "code",
   "execution_count": null,
   "metadata": {
    "id": "_oG3AH-Up2_c"
   },
   "outputs": [],
   "source": [
    "merge_table= pd.merge(games.set_index(\"game_id\"), club_games.set_index(\"game_id\"), left_index=True, right_index=True,how=\"right\")\n",
    "merge_table=pd.merge(merge_table, events, left_index=True, right_index=True,how=\"inner\")\n"
   ]
  },
  {
   "cell_type": "code",
   "execution_count": null,
   "metadata": {
    "id": "fTz4u0YKp2_c"
   },
   "outputs": [],
   "source": [
    "# para agregar los datos de el club local y visitante renombrare los datos para poder identificarlos, creando 2 nuevas tablas con los nombres\n",
    "local=clubs\n",
    "visit=clubs\n",
    "\n",
    "for column in local.columns:\n",
    "    local=local.rename(columns={column: f\"{column}_local\"})\n",
    "    visit=visit.rename(columns={column: f\"{column}_visit\"})\n",
    "\n",
    "\n"
   ]
  },
  {
   "cell_type": "code",
   "execution_count": null,
   "metadata": {
    "id": "LXCqG_onp2_c"
   },
   "outputs": [],
   "source": [
    "#agregamos a la tabla los datos tanto del club local como el visitante\n",
    "merge_table=pd.merge(merge_table.set_index(\"home_club_id\"), local.set_index(\"club_id_local\"), left_index=True, right_index=True,how=\"left\")\n",
    "merge_table=pd.merge(merge_table.set_index(\"away_club_id\"), visit.set_index(\"club_id_visit\"), left_index=True, right_index=True,how=\"left\")\n"
   ]
  },
  {
   "cell_type": "code",
   "execution_count": null,
   "metadata": {
    "colab": {
     "base_uri": "https://localhost:8080/"
    },
    "id": "XT0qTSlGp2_c",
    "outputId": "5f2e396c-f7ad-46bc-f59c-a07aec0136e1"
   },
   "outputs": [],
   "source": [
    "# vamos a hacer que la columna de fecha se reconozca de tal forma para que podamos ordenrar todo por fecha\n",
    "merge_table['date'] = pd.to_datetime(merge_table['date'])\n",
    "merge_table.info()"
   ]
  },
  {
   "cell_type": "code",
   "execution_count": null,
   "metadata": {
    "colab": {
     "base_uri": "https://localhost:8080/",
     "height": 704
    },
    "id": "zAwfwCmqp2_d",
    "outputId": "5d91e352-685d-4437-ddb4-904793232727"
   },
   "outputs": [],
   "source": [
    "# vamos a orderar nuestro df por fecha\n",
    "merge_table= merge_table.sort_values('date')\n",
    "merge_table=merge_table.reset_index()\n",
    "merge_table"
   ]
  },
  {
   "cell_type": "code",
   "execution_count": null,
   "metadata": {
    "colab": {
     "base_uri": "https://localhost:8080/"
    },
    "id": "V2PKUu-PuJfE",
    "outputId": "91f850a9-a742-41cd-f4b6-b3d38e987028"
   },
   "outputs": [],
   "source": [
    "merge_table.columns"
   ]
  },
  {
   "cell_type": "markdown",
   "metadata": {
    "id": "v7WEMtenp2_d"
   },
   "source": [
    "## Ingieneria de variables"
   ]
  },
  {
   "cell_type": "code",
   "execution_count": null,
   "metadata": {
    "colab": {
     "base_uri": "https://localhost:8080/"
    },
    "id": "TB3ANh0Fp2_d",
    "outputId": "9570f7db-5355-4166-9f23-1e6d1c0d8dc0"
   },
   "outputs": [],
   "source": [
    "#como lo que queremos predecir son los resultados de los partidos ,vamos a desplazar las viariables que tienen que ver con\n",
    "#el resultado del partido\n",
    "\n",
    "#para el partido pasado del local\n",
    "grouped = merge_table.groupby('club_id')\n",
    "merge_table['casa_goles_anteriores'] = grouped['home_club_goals'].shift()\n",
    "merge_table['casa_goles_anteriores_recibidos'] = grouped['away_club_goals'].shift()\n",
    "merge_table['casa_minuto_primer_gol_anterior'] = grouped['minute_first_goal'].shift()\n",
    "merge_table['casa_minuto_ultimo_gol_anterior'] = grouped['minute_last_goal'].shift()\n",
    "merge_table['casa_victoria_local_partidoanterior'] = grouped['is_win'].shift()\n",
    "merge_table['casa_number_goals_anterior'] = grouped['number_goals'].shift()\n",
    "merge_table['casa_sustituciones_anterior'] = grouped['number_game_substitutions'].shift()\n",
    "merge_table['casa_goles_tiempo_añadido_anterior'] = grouped['goals_added_time'].shift()\n",
    "\n",
    "#para el partido pasados del visitante\n",
    "grouped = merge_table.groupby('opponent_id')\n",
    "merge_table['visita_goles_anteriores_recibidos'] = grouped['home_club_goals'].shift()\n",
    "merge_table['visita_goles_anteriores'] = grouped['away_club_goals'].shift()\n",
    "merge_table['visita_minuto_primer_gol_anterior'] = grouped['minute_first_goal'].shift()\n",
    "merge_table['visita_minuto_ultimo_gol_anterior'] = grouped['minute_last_goal'].shift()\n",
    "merge_table['visita_victoria_local_partidoanterior'] = grouped['is_win'].shift()*-1\n",
    "merge_table['visita_number_goals_anterior'] = grouped['number_goals'].shift()\n",
    "merge_table['visita_sustituciones_anterior'] = grouped['number_game_substitutions'].shift()\n",
    "merge_table['visita_goles_tiempo_añadido_anterior'] = grouped['goals_added_time'].shift()\n",
    "merge_table.info()"
   ]
  },
  {
   "cell_type": "code",
   "execution_count": null,
   "metadata": {
    "colab": {
     "base_uri": "https://localhost:8080/"
    },
    "id": "cVOg3eARp2_d",
    "outputId": "b5f6676b-1d3b-4b7c-fd16-c9c816885eb9"
   },
   "outputs": [],
   "source": [
    "#como lo que queremos predecir son los resultados de los partidos en realida,vamos a desplazar las viariables que tienen que ver con\n",
    "#el resultado del partido ahora dando info de los 2 partidos previos\n",
    "\n",
    "#para el partido pasado del local\n",
    "grouped = merge_table.groupby('club_id')\n",
    "merge_table['casa_goles_anteriores_2'] = grouped['home_club_goals'].shift(2)\n",
    "merge_table['casa_goles_anteriores_recibidos_2'] = grouped['away_club_goals'].shift(2)\n",
    "merge_table['casa_minuto_primer_gol_anterior_2'] = grouped['minute_first_goal'].shift(2)\n",
    "merge_table['casa_minuto_ultimo_gol_anterior_2'] = grouped['minute_last_goal'].shift(2)\n",
    "merge_table['casa_victoria_local_partidoanterior_2'] = grouped['is_win'].shift(2)\n",
    "merge_table['casa_number_goals_anterior_2'] = grouped['number_goals'].shift(2)\n",
    "merge_table['casa_sustituciones_anterior_2'] = grouped['number_game_substitutions'].shift(2)\n",
    "merge_table['casa_goles_tiempo_añadido_anterior_2'] = grouped['goals_added_time'].shift(2)\n",
    "\n",
    "#para el partido pasados del visitante\n",
    "grouped = merge_table.groupby('opponent_id')\n",
    "merge_table['visita_goles_anteriores_recibidos_2'] = grouped['home_club_goals'].shift(2)\n",
    "merge_table['visita_goles_anteriores_2'] = grouped['away_club_goals'].shift(2)\n",
    "merge_table['visita_minuto_primer_gol_anterior_2'] = grouped['minute_first_goal'].shift(2)\n",
    "merge_table['visita_minuto_ultimo_gol_anterior_2'] = grouped['minute_last_goal'].shift(2)\n",
    "merge_table['visita_victoria_local_partidoanterior_2'] = grouped['is_win'].shift(2)*-1\n",
    "merge_table['visita_number_goals_anterior_2'] = grouped['number_goals'].shift(2)\n",
    "merge_table['visita_sustituciones_anterior_2'] = grouped['number_game_substitutions'].shift(2)\n",
    "merge_table['visita_goles_tiempo_añadido_anterior_2'] = grouped['goals_added_time'].shift(2)\n",
    "merge_table.info()"
   ]
  },
  {
   "cell_type": "code",
   "execution_count": null,
   "metadata": {
    "colab": {
     "base_uri": "https://localhost:8080/"
    },
    "id": "z3WbLmpep2_d",
    "outputId": "c8c30104-a667-48ca-c5fc-2cb0fbf70cc0"
   },
   "outputs": [],
   "source": [
    "#como lo que queremos predecir son los resultados de los partidos en realida,vamos a desplazar las viariables que tienen que ver con\n",
    "#el resultado del partido ahora dando info de los 3 partidos previos\n",
    "\n",
    "#para el partido pasado del local\n",
    "grouped = merge_table.groupby('club_id')\n",
    "merge_table['casa_goles_anteriores_3'] = grouped['home_club_goals'].shift(3)\n",
    "merge_table['casa_goles_anteriores_recibidos_3'] = grouped['away_club_goals'].shift(3)\n",
    "merge_table['casa_minuto_primer_gol_anterior_3'] = grouped['minute_first_goal'].shift(3)\n",
    "merge_table['casa_minuto_ultimo_gol_anterior_3'] = grouped['minute_last_goal'].shift(3)\n",
    "merge_table['casa_victoria_local_partidoanterior_3'] = grouped['is_win'].shift(3)\n",
    "merge_table['casa_number_goals_anterior_3'] = grouped['number_goals'].shift(3)\n",
    "merge_table['casa_sustituciones_anterior_3'] = grouped['number_game_substitutions'].shift(3)\n",
    "merge_table['casa_goles_tiempo_añadido_anterior_3'] = grouped['goals_added_time'].shift(3)\n",
    "\n",
    "#para el partido pasados del visitante\n",
    "grouped = merge_table.groupby('opponent_id')\n",
    "merge_table['visita_goles_anteriores_recibidos_3'] = grouped['home_club_goals'].shift(3)\n",
    "merge_table['visita_goles_anteriores_3'] = grouped['away_club_goals'].shift(3)\n",
    "merge_table['visita_minuto_primer_gol_anterior_3'] = grouped['minute_first_goal'].shift(3)\n",
    "merge_table['visita_minuto_ultimo_gol_anterior_3'] = grouped['minute_last_goal'].shift(3)\n",
    "merge_table['visita_victoria_local_partidoanterior_3'] = grouped['is_win'].shift(3)*-1\n",
    "merge_table['visita_number_goals_anterior_3'] = grouped['number_goals'].shift(3)\n",
    "merge_table['visita_sustituciones_anterior_3'] = grouped['number_game_substitutions'].shift(3)\n",
    "merge_table['visita_goles_tiempo_añadido_anterior_3'] = grouped['goals_added_time'].shift(3)\n",
    "merge_table.info()"
   ]
  },
  {
   "cell_type": "code",
   "execution_count": null,
   "metadata": {
    "colab": {
     "base_uri": "https://localhost:8080/",
     "height": 342
    },
    "id": "0KqEii6Yp2_e",
    "outputId": "2035b365-beba-4647-e8d9-0f166209a35c"
   },
   "outputs": [],
   "source": [
    "# siguiendo el mismo pensamiento de que queremos predecir el total de goles, antes de un partido\n",
    "#eleminaremos las variables correspondientes alos sucesos ocurridos durante el partido, ya que no tiene sentido\n",
    "#querer predecir total de goles, si el partido ya termino, a excepcion de nuestra variable objetivo\n",
    "#tambien eliminaremos variables que no tienen sentido, como tamaño de estadio de la visita, ya que es un factor totoalmente ajeno\n",
    "#y variables que venian repetidas por dos tablas\n",
    "ls_delte=['stadium_seats_visit',\"home_club_goals\",\"away_club_goals\",\"minute_first_goal\",\"minute_last_goal\",'is_win','aggregate','own_goals','opponent_goals' ,'number_game_substitutions','goals_added_time',\"own_manager_name\",\"opponent_manager_name\"]\n",
    "\n",
    "for i in ls_delte:\n",
    "    merge_table=merge_table.drop([i],axis=1)\n",
    "\n",
    "merge_table.sample(5)\n",
    "\n",
    "\n",
    "\n"
   ]
  },
  {
   "cell_type": "code",
   "execution_count": null,
   "metadata": {
    "id": "9p7P9wM-p2_e"
   },
   "outputs": [],
   "source": [
    "\n",
    "merge_table=merge_table.sort_values('date')\n"
   ]
  },
  {
   "cell_type": "code",
   "execution_count": null,
   "metadata": {
    "id": "71gf_-6sp2_e"
   },
   "outputs": [],
   "source": [
    "# creacion variable objetivo\n",
    "merge_table[\"over_2\"]=merge_table[\"number_goals\"].map(lambda x: 1 if x > 2 else 0)"
   ]
  },
  {
   "cell_type": "code",
   "execution_count": null,
   "metadata": {
    "id": "LE86na33p2_e"
   },
   "outputs": [],
   "source": [
    "# Veamos cuales son las variables continuas para crear mas variables a partir de ellas\n",
    "ls_cont=[]\n",
    "for i in  merge_table.columns:\n",
    "        if not  merge_table[i].dtype == object:\n",
    "            if merge_table[i].nunique() > 2:\n",
    "                ls_cont.append(i)"
   ]
  },
  {
   "cell_type": "code",
   "execution_count": null,
   "metadata": {
    "colab": {
     "base_uri": "https://localhost:8080/"
    },
    "id": "g1RP2XSkp2_e",
    "outputId": "e2f19942-7a3f-43eb-a2bf-065b2d6484f5"
   },
   "outputs": [],
   "source": [
    "merge_table[ls_cont].columns"
   ]
  },
  {
   "cell_type": "code",
   "execution_count": null,
   "metadata": {
    "id": "yFRsWWSQp2_e"
   },
   "outputs": [],
   "source": [
    "# Calcular el promedio actualizado de goles recibidos por equipo utilizando rolling y groupby\n",
    "\n",
    "merge_table[\"casa_goles_recibidos_mean\"] = merge_table.groupby('club_id')['casa_goles_anteriores_recibidos'].rolling(window=5, min_periods=1).mean().reset_index(drop=True)\n",
    "merge_table[\"casa_goles_anotados_mean\"]= merge_table.groupby('club_id')['casa_goles_anteriores'].rolling(window=5, min_periods=1).mean().reset_index(drop=True)\n",
    "merge_table[\"visita_goles_recibidos_mean\"] = merge_table.groupby('opponent_id')['visita_goles_anteriores_recibidos'].rolling(window=5, min_periods=1).mean().reset_index(drop=True)\n",
    "merge_table[\"visita_goles_anotados_mean\"]= merge_table.groupby('opponent_id')['visita_goles_anteriores'].rolling(window=5, min_periods=1).mean().reset_index(drop=True)\n",
    "merge_table[\"casa_number_goals_mean\"]= merge_table.groupby('opponent_id')['casa_number_goals_anterior'].rolling(window=5, min_periods=1).mean().reset_index(drop=True)\n",
    "merge_table[\"visita_number_goals_mean\"]= merge_table.groupby('opponent_id')['visita_number_goals_anterior'].rolling(window=5, min_periods=1).mean().reset_index(drop=True)"
   ]
  },
  {
   "cell_type": "code",
   "execution_count": null,
   "metadata": {
    "id": "jBVSkhbmp2_f"
   },
   "outputs": [],
   "source": [
    "# Creacion de variables continuas para 1 partido anterior\n",
    "merge_table[\"age_difference\"]=merge_table['average_age_local']-merge_table['average_age_visit']\n",
    "merge_table[\"foreigners_percentage_difference\"]=merge_table['foreigners_percentage_local']-merge_table['foreigners_percentage_visit']\n",
    "merge_table[\"suma_goles_recibidos\"]=merge_table['casa_goles_anteriores_recibidos']+merge_table['visita_goles_anteriores_recibidos']\n",
    "merge_table[\"suma_goles_anotados\"]=merge_table['casa_goles_anteriores']+merge_table['visita_goles_anteriores']\n",
    "merge_table[\"total_de_goles_anterior_casa\"]=merge_table['casa_goles_anteriores']+merge_table['casa_goles_anteriores_recibidos']\n",
    "merge_table[\"total_de_goles_anterior_visita\"]=merge_table['visita_goles_anteriores']+merge_table['visita_goles_anteriores_recibidos']\n",
    "merge_table[\"anotado_local_recibido_visita\"]=merge_table['casa_goles_anteriores']+merge_table['visita_goles_anteriores_recibidos']\n",
    "merge_table[\"anotado_visita_recibido_local\"]=merge_table['casa_goles_anteriores_recibidos']+merge_table['visita_goles_anteriores']\n",
    "merge_table['over_2_anterior_casa']=merge_table[\"total_de_goles_anterior_casa\"].map(lambda x: 1 if x > 2 else 0)\n",
    "merge_table['over_2_anterior_visita']=merge_table[\"total_de_goles_anterior_visita\"].map(lambda x: 1 if x > 2 else 0)\n",
    "merge_table[\"diferencia_promedio_anotados\"]=merge_table[\"casa_goles_anotados_mean\"]-merge_table[\"visita_goles_anotados_mean\"]\n",
    "merge_table[\"diferencia_promedio_recibidos\"]=merge_table[\"casa_goles_recibidos_mean\"]-merge_table[\"visita_goles_recibidos_mean\"]\n",
    "merge_table[\"suma_promedio_recibidos_anotados\"]=merge_table[\"casa_goles_recibidos_mean\"]+merge_table[\"visita_goles_anotados_mean\"]\n",
    "merge_table[\"suma_promedio_anotados_recibidos\"]=merge_table[\"casa_goles_anotados_mean\"]+merge_table[\"visita_goles_recibidos_mean\"]\n",
    "merge_table[\"suma_promedio_number_goals\"]=merge_table[\"casa_number_goals_mean\"]+merge_table[\"visita_number_goals_mean\"]\n",
    "merge_table[\"diferencia_promedio_number_goals\"]=merge_table[\"casa_number_goals_mean\"]-merge_table[\"visita_number_goals_mean\"]\n",
    "merge_table[\"diferencia_sustituciones\"]=merge_table['casa_sustituciones_anterior']-merge_table['visita_sustituciones_anterior']\n",
    "\n"
   ]
  },
  {
   "cell_type": "code",
   "execution_count": null,
   "metadata": {
    "id": "6Rude1bYp2_f"
   },
   "outputs": [],
   "source": [
    "# Creacion de variables continuas para 2 partidos anteriores\n",
    "merge_table[\"suma_goles_recibidos_2\"]=merge_table['casa_goles_anteriores_recibidos_2']+merge_table['visita_goles_anteriores_recibidos_2']\n",
    "merge_table[\"suma_goles_anotados_2\"]=merge_table['casa_goles_anteriores_2']+merge_table['visita_goles_anteriores_2']\n",
    "merge_table[\"total_de_goles_anterior_casa_2\"]=merge_table['casa_goles_anteriores_2']+merge_table['casa_goles_anteriores_recibidos_2']\n",
    "merge_table[\"total_de_goles_anterior_visita_2\"]=merge_table['visita_goles_anteriores_2']+merge_table['visita_goles_anteriores_recibidos_2']\n",
    "merge_table[\"anotado_local_recibido_visita_2\"]=merge_table['casa_goles_anteriores_2']+merge_table['visita_goles_anteriores_recibidos_2']\n",
    "merge_table[\"anotado_visita_recibido_local_2\"]=merge_table['casa_goles_anteriores_recibidos_2']+merge_table['visita_goles_anteriores_2']\n",
    "merge_table['over_2_anterior_casa_2']=merge_table[\"total_de_goles_anterior_casa_2\"].map(lambda x: 1 if x > 2 else 0)\n",
    "merge_table['over_2_anterior_visita_2']=merge_table[\"total_de_goles_anterior_visita_2\"].map(lambda x: 1 if x > 2 else 0)\n",
    "merge_table[\"diferencia_sustituciones_2\"]=merge_table['casa_sustituciones_anterior_2']-merge_table['visita_sustituciones_anterior_2']"
   ]
  },
  {
   "cell_type": "code",
   "execution_count": null,
   "metadata": {
    "id": "SLNTuLjGp2_f"
   },
   "outputs": [],
   "source": [
    "# Creacion de variables continuas para 3 partidos anteriores\n",
    "merge_table[\"suma_goles_recibidos_3\"]=merge_table['casa_goles_anteriores_recibidos_3']+merge_table['visita_goles_anteriores_recibidos_3']\n",
    "merge_table[\"suma_goles_anotados_3\"]=merge_table['casa_goles_anteriores_3']+merge_table['visita_goles_anteriores_3']\n",
    "merge_table[\"total_de_goles_anterior_casa_3\"]=merge_table['casa_goles_anteriores_3']+merge_table['casa_goles_anteriores_recibidos_3']\n",
    "merge_table[\"total_de_goles_anterior_visita_3\"]=merge_table['visita_goles_anteriores_3']+merge_table['visita_goles_anteriores_recibidos_3']\n",
    "merge_table[\"anotado_local_recibido_visita_3\"]=merge_table['casa_goles_anteriores_3']+merge_table['visita_goles_anteriores_recibidos_3']\n",
    "merge_table[\"anotado_visita_recibido_local_3\"]=merge_table['casa_goles_anteriores_recibidos_3']+merge_table['visita_goles_anteriores_3']\n",
    "merge_table['over_2_anterior_casa_3']=merge_table[\"total_de_goles_anterior_casa_3\"].map(lambda x: 1 if x > 2 else 0)\n",
    "merge_table['over_2_anterior_visita_3']=merge_table[\"total_de_goles_anterior_visita_3\"].map(lambda x: 1 if x > 2 else 0)\n",
    "merge_table[\"diferencia_sustituciones_3\"]=merge_table['casa_sustituciones_anterior_3']-merge_table['visita_sustituciones_anterior_3']"
   ]
  },
  {
   "cell_type": "code",
   "execution_count": null,
   "metadata": {
    "id": "rN03ENiRp2_f"
   },
   "outputs": [],
   "source": [
    "merge_table=merge_table.set_index('date')"
   ]
  },
  {
   "cell_type": "markdown",
   "metadata": {
    "id": "p3Qw5_9Tp2_f"
   },
   "source": [
    "# EDA"
   ]
  },
  {
   "cell_type": "code",
   "execution_count": null,
   "metadata": {
    "colab": {
     "base_uri": "https://localhost:8080/",
     "height": 1000
    },
    "id": "iu02MCoXp2_f",
    "outputId": "78125872-de40-4bd5-e130-22fe8019f7a8"
   },
   "outputs": [],
   "source": [
    "# Distribucion de variables continuas\n",
    "ls_cont=[]\n",
    "for i in  merge_table.columns:\n",
    "    if not  merge_table[i].dtype == object:\n",
    "        if merge_table[i].nunique() > 2:\n",
    "            res=merge_table[i].map(lambda x:float(x)).iplot(kind=\"hist\", title=f\"{i}'s histogram\", asFigure=True)\n",
    "            res.show()#descomentar para eda\n",
    "            ls_cont.append(i)\n"
   ]
  },
  {
   "cell_type": "code",
   "execution_count": null,
   "metadata": {
    "colab": {
     "base_uri": "https://localhost:8080/",
     "height": 1000
    },
    "id": "qGXu9yKhp2_f",
    "outputId": "b895608e-5bae-47c5-a922-f50212e5229f"
   },
   "outputs": [],
   "source": [
    "# Distrinucion de variables discretas\n",
    "!pip install chart_studio\n",
    "import plotly.express as px\n",
    "ls_disc=[]\n",
    "for i in merge_table.columns:\n",
    "        if merge_table[i].nunique() < 30:\n",
    "            if i in ls_cont:\n",
    "                continue\n",
    "            else:\n",
    "                ls_disc.append(i)\n",
    "for variable in ls_disc:\n",
    "    fig = px.pie(merge_table[variable].value_counts().reset_index(), names='index', values=variable, title=f\"{variable}'s distribution\")\n",
    "    fig.show()"
   ]
  },
  {
   "cell_type": "code",
   "execution_count": null,
   "metadata": {
    "colab": {
     "base_uri": "https://localhost:8080/",
     "height": 174
    },
    "id": "xxnkNS0ap2_g",
    "outputId": "4bec43fd-af75-4cc1-e519-fda8114af7ee"
   },
   "outputs": [],
   "source": [
    "#  Se comento ya que el notebook pesaba demasiado, pero se incluye en el reporte\n",
    "\"\"\"# Distribucion de variales en relacion con la variable objetivo\n",
    "import plotly.graph_objs as go\n",
    "from plotly.offline import iplot\n",
    "import plotly.offline as pyo\n",
    "for variable in ls_cont:\n",
    "    data = []\n",
    "\n",
    "    trace1 = go.Histogram(\n",
    "        x=merge_table[merge_table['over_2'] == 0][variable],\n",
    "        name='Categoría 0',\n",
    "        histnorm='percent',\n",
    "        opacity=0.5\n",
    "    )\n",
    "    data.append(trace1)\n",
    "\n",
    "    trace2 = go.Histogram(\n",
    "        x=merge_table[merge_table['over_2'] == 1][variable],\n",
    "        name='Categoría 1',\n",
    "        histnorm='percent',\n",
    "        opacity=0.5\n",
    "    )\n",
    "    data.append(trace2)\n",
    "\n",
    "    layout = go.Layout(\n",
    "        title='Histograma de ' + variable + ' con respecto a la Categoría ' + 'over_2',\n",
    "        xaxis=dict(title='Valor'),\n",
    "        yaxis=dict(title='Frecuencia %'),\n",
    "        barmode='overlay'\n",
    "    )\n",
    "\n",
    "    fig = go.Figure(data=data, layout=layout)\n",
    "    pyo.iplot(fig)\"\"\" #descomentar para eda"
   ]
  },
  {
   "cell_type": "code",
   "execution_count": null,
   "metadata": {
    "colab": {
     "base_uri": "https://localhost:8080/"
    },
    "id": "wKRztPpxp2_k",
    "outputId": "8aafae3e-42a1-4c23-a36b-416e6b0459e7"
   },
   "outputs": [],
   "source": [
    "merge_table.info()"
   ]
  },
  {
   "cell_type": "code",
   "execution_count": null,
   "metadata": {
    "colab": {
     "base_uri": "https://localhost:8080/"
    },
    "id": "2wvEe-JMp2_l",
    "outputId": "ec3b5456-9285-46dd-e79b-b1cb6442567d"
   },
   "outputs": [],
   "source": [
    "\n",
    "ls_disc"
   ]
  },
  {
   "cell_type": "code",
   "execution_count": null,
   "metadata": {
    "id": "08pLTYSpp2_l"
   },
   "outputs": [],
   "source": [
    "#eliminasmos la variable \"hosting\"\n",
    "merge_table=merge_table.drop([\"hosting\"], axis=1)\n"
   ]
  },
  {
   "cell_type": "code",
   "execution_count": null,
   "metadata": {
    "id": "bdIB7ujBp2_l"
   },
   "outputs": [],
   "source": [
    "ls_disc.remove(\"hosting\")"
   ]
  },
  {
   "cell_type": "markdown",
   "metadata": {
    "id": "J4EUA3Ocp2_l"
   },
   "source": [
    "# Creamos dummies para las variables discretas tipo string"
   ]
  },
  {
   "cell_type": "code",
   "execution_count": null,
   "metadata": {
    "colab": {
     "base_uri": "https://localhost:8080/"
    },
    "id": "cInc3DMjp2_l",
    "outputId": "70f04807-3357-4066-fcd4-bcf84e439c24"
   },
   "outputs": [],
   "source": [
    "# dummies de la variable subject\n",
    "ls_dummies=[]\n",
    "for i in ls_disc:\n",
    "    if merge_table[i].dtype == object:\n",
    "        ls_dummies.append(i)\n",
    "dumm=pd.get_dummies(merge_table[ls_dummies],dtype=int,drop_first=True) # se usa tipo entero y se elimina una de las columnas para no repetir informacion\n",
    "for i in dumm.columns: # se agregan las columnas al df original\n",
    "    merge_table[i]=dumm[i]\n",
    "merge_table.info()"
   ]
  },
  {
   "cell_type": "code",
   "execution_count": null,
   "metadata": {
    "colab": {
     "base_uri": "https://localhost:8080/"
    },
    "id": "uIV_Iakup2_l",
    "outputId": "eff51d8d-2499-4453-c5e7-a356221cfb45"
   },
   "outputs": [],
   "source": [
    "# actualizamos la lista de variables discretas\n",
    "ls_disc=[]\n",
    "for i in merge_table.columns:\n",
    "    if i in ls_cont:\n",
    "        continue\n",
    "    else:\n",
    "        if not merge_table[i].dtype == object:\n",
    "            ls_disc.append(i)\n",
    "len(ls_disc)"
   ]
  },
  {
   "cell_type": "markdown",
   "metadata": {
    "id": "OJeYOOxvp2_m"
   },
   "source": [
    "# Limpieza"
   ]
  },
  {
   "cell_type": "code",
   "execution_count": null,
   "metadata": {
    "id": "_T_W_FyIp2_m"
   },
   "outputs": [],
   "source": [
    "# vamos a quitar las variables que no nos interesan de ls_cont\n",
    "\n",
    "ls_cont.remove('club_id')\n"
   ]
  },
  {
   "cell_type": "code",
   "execution_count": null,
   "metadata": {
    "id": "P4Pb4Z-Ezhwq"
   },
   "outputs": [],
   "source": [
    "ls_cont.remove('opponent_id')"
   ]
  },
  {
   "cell_type": "code",
   "execution_count": null,
   "metadata": {
    "colab": {
     "base_uri": "https://localhost:8080/",
     "height": 424
    },
    "id": "4j3aFoV8p2_m",
    "outputId": "283684d4-0eb0-4d21-9c88-bcc3e27f2b36"
   },
   "outputs": [],
   "source": [
    "#vemos que no tenemos valores unarios para este caso\n",
    "merge_table[ls_cont+ls_disc].nunique().sort_values().to_frame() #vemos que ya no hay mas vairbales unarias"
   ]
  },
  {
   "cell_type": "code",
   "execution_count": null,
   "metadata": {
    "colab": {
     "base_uri": "https://localhost:8080/",
     "height": 424
    },
    "id": "BY0xZ_XDp2_m",
    "outputId": "5f6005a9-9644-411a-91b7-f8f43c7cde44"
   },
   "outputs": [],
   "source": [
    "nulos=merge_table[ls_disc+ls_cont].isnull().mean().sort_values().to_frame().reset_index()\n",
    "nulos\n",
    "\n"
   ]
  },
  {
   "cell_type": "code",
   "execution_count": null,
   "metadata": {
    "id": "rF-C3vdQp2_m"
   },
   "outputs": [],
   "source": [
    "# actualizamos a nuestro df\n",
    "merge_table=merge_table[ls_cont+ls_disc+['club_id','opponent_id']]"
   ]
  },
  {
   "cell_type": "code",
   "execution_count": null,
   "metadata": {
    "colab": {
     "base_uri": "https://localhost:8080/"
    },
    "id": "EupC0GYtp2_m",
    "outputId": "dc9e0d79-2772-4e2b-b332-61cd66a2bf3c"
   },
   "outputs": [],
   "source": [
    "# remocion de variables con valores ausentes\n",
    "shape_df=merge_table.shape\n",
    "ls_miss_var=[]\n",
    "nulos=nulos[nulos[0]>.15]\n",
    "for i in nulos[\"index\"]:\n",
    "        ls_miss_var.append(f\"{i}\")\n",
    "print(f\"nuestro conjunto de datos tiene {len(ls_miss_var)} variables con mas del 15% de ausentes y son {ls_miss_var}\")"
   ]
  },
  {
   "cell_type": "code",
   "execution_count": null,
   "metadata": {
    "id": "3Pdx95upp2_m"
   },
   "outputs": [],
   "source": [
    "#vamos a eliminar todas las columnas con mas del 10% de valores ausentes\n",
    "ls_position=[\"home_club_position\",\"away_club_position\"]#notamos que estas varibles no tienen nulos, pero el 25 de los datos son -1, lo cual es falta de info\n",
    "for i in ls_miss_var+ls_position:\n",
    "    merge_table=merge_table.drop([i],axis=1)\n"
   ]
  },
  {
   "cell_type": "code",
   "execution_count": null,
   "metadata": {
    "colab": {
     "base_uri": "https://localhost:8080/"
    },
    "id": "qQLJqC_2p2_m",
    "outputId": "c7cba700-a4aa-4723-f868-44e116c63fed"
   },
   "outputs": [],
   "source": [
    "#ahora solo tenemos 34 columnas pero ninguna tiene mas del 10% de valores ausentes, sin embargo debemos de darle un tratamiento a los valores ausentes que tenemos\n",
    "merge_table.info()"
   ]
  },
  {
   "cell_type": "code",
   "execution_count": null,
   "metadata": {
    "colab": {
     "base_uri": "https://localhost:8080/"
    },
    "id": "LeY423VWp2_n",
    "outputId": "4d3f0bd7-937c-48af-dafd-4941c1738836"
   },
   "outputs": [],
   "source": [
    "# los demas valores nulos son resultado de que las variables que creamos,son apartir de otros registros anteriores, por lo que el primer registro\n",
    "#de cada equipo como local y visita tendra valor nulo al no tener valor anterior, por lo que podemos desasernos de estos valores.\n",
    "merge_table=merge_table.dropna()\n",
    "merge_table.info()"
   ]
  },
  {
   "cell_type": "code",
   "execution_count": null,
   "metadata": {
    "colab": {
     "base_uri": "https://localhost:8080/"
    },
    "id": "oe_l-zqqp2_n",
    "outputId": "06de6530-be67-425e-b95f-9e8965dbd5da"
   },
   "outputs": [],
   "source": [
    "# vamos a actualizar la lista ls_cont y ls_disc\n",
    "ls_cont=[]\n",
    "for i in merge_table.columns:\n",
    "    if merge_table[i].nunique()>2:\n",
    "        ls_cont.append(i)\n",
    "ls_disc=[]\n",
    "for i in merge_table.columns:\n",
    "    if not i in ls_cont:\n",
    "        ls_disc.append(i)\n",
    "print(ls_cont,len(ls_cont))\n",
    "print(ls_disc, len(ls_disc))"
   ]
  },
  {
   "cell_type": "code",
   "execution_count": null,
   "metadata": {
    "colab": {
     "base_uri": "https://localhost:8080/"
    },
    "id": "cA3VADw7p2_n",
    "outputId": "ce4359a2-1d03-4be9-91fd-be3fd05bf06f"
   },
   "outputs": [],
   "source": [
    "#vamos a remover las variables altamente correlacionadas\n",
    "corr_matrix = merge_table[ls_cont].corr()\n",
    "ls_checked = []\n",
    "ls_correlated = []\n",
    "for col in corr_matrix.columns:\n",
    "    ls_checked.append(col)\n",
    "    ls_correlated += corr_matrix[(corr_matrix[col] >= .90) & (~corr_matrix.index.isin(ls_checked))].index.tolist()\n",
    "ls_correlated = list(set(ls_correlated))\n",
    "ls_correlated = [variable for variable in ls_correlated if variable not in ls_disc ]\n",
    "print(f\"las variables con correlacion de 1 con respecto a otr son{ls_correlated}\")\n",
    "if len(ls_correlated) >1:\n",
    "    merge_table.drop(ls_correlated,axis=1)"
   ]
  },
  {
   "cell_type": "markdown",
   "metadata": {
    "id": "6sfWwB8-p2_n"
   },
   "source": [
    "# deteccion de valores extremos"
   ]
  },
  {
   "cell_type": "code",
   "execution_count": null,
   "metadata": {
    "id": "ZIzz3Lj_p2_n"
   },
   "outputs": [],
   "source": [
    "#definimos funcion para detectar outliers\n",
    "\n",
    "def detect_outlier(serie, method):\n",
    "    if method == \"iqr\":\n",
    "        q1 = serie.quantile(.25)\n",
    "        q3 = serie.quantile(.75)\n",
    "        iqr = q3-q1\n",
    "        upper_fence = q3 + 1.5*iqr\n",
    "        lower_fence = q1 - 1.5*iqr\n",
    "    elif method == \"z-score\":\n",
    "        mean = serie.mean()\n",
    "        std = serie.std()\n",
    "        upper_fence = mean + 3*std\n",
    "        lower_fence = mean - 3*std\n",
    "    else:\n",
    "        upper_fence = serie.quantile(.99)\n",
    "        lower_fence = serie.quantile(.01)\n",
    "    return ~serie.between(lower_fence, upper_fence, inclusive=\"both\")"
   ]
  },
  {
   "cell_type": "code",
   "execution_count": null,
   "metadata": {
    "id": "rSvxRGCAp2_n"
   },
   "outputs": [],
   "source": [
    "Xp = pd.concat(map(lambda column: detect_outlier(merge_table[column], \"other\").rename(f\"{column}_ol\"), ls_cont), axis=1)"
   ]
  },
  {
   "cell_type": "code",
   "execution_count": null,
   "metadata": {
    "colab": {
     "base_uri": "https://localhost:8080/"
    },
    "id": "iTFcw_lqp2_n",
    "outputId": "9e82e929-fae4-4810-ddc9-0ddda9a0c56f"
   },
   "outputs": [],
   "source": [
    "shape_old = merge_table.shape\n",
    "shape_new=Xp[Xp.mean(axis=1)<0.3].shape #renglones que tengan menos del 30% de variables detectadas como outlier\n",
    "shape_new[0] / shape_old[0] # proporcion de tamaño del nuevo data frame, sin valores extremos"
   ]
  },
  {
   "cell_type": "code",
   "execution_count": null,
   "metadata": {
    "colab": {
     "base_uri": "https://localhost:8080/",
     "height": 444
    },
    "id": "niyjgmVup2_o",
    "outputId": "cac6c91b-db2a-4f1c-c2b3-220337275ef5"
   },
   "outputs": [],
   "source": [
    "#podemos ver que con el metodo que menos perdemos registros, es con el z_core, para este caso nos quedaremos con\n",
    "#los cuantiles\n",
    "merge_table =merge_table[Xp.mean(axis=1)<0.3].reset_index(drop=True)\n",
    "merge_table"
   ]
  },
  {
   "cell_type": "code",
   "execution_count": null,
   "metadata": {
    "id": "x4lNbRPep2_o"
   },
   "outputs": [],
   "source": [
    "# variables con infinitos\n",
    "#Validamos ahora para inf variables\n",
    "inf_values = np.isinf(merge_table[ls_cont]).sum().items()\n",
    "inf_variables = [var for var, n_inf in inf_values if n_inf > 0]\n",
    "inf_variables # no hay variables con infinitos\n",
    "if len(inf_variables)>1:\n",
    "    merge_table.drop(inf_variables,axis=1)"
   ]
  },
  {
   "cell_type": "markdown",
   "metadata": {
    "id": "176J3J52p2_o"
   },
   "source": [
    "# Separacion de conjuntos"
   ]
  },
  {
   "cell_type": "code",
   "execution_count": null,
   "metadata": {
    "id": "rg7iXAu6p2_o"
   },
   "outputs": [],
   "source": [
    "x=merge_table.copy().drop(['number_goals','over_2'],axis=1)\n",
    "y=merge_table[\"over_2\"]\n"
   ]
  },
  {
   "cell_type": "code",
   "execution_count": null,
   "metadata": {
    "id": "iEvkdCtEc3l0"
   },
   "outputs": [],
   "source": []
  },
  {
   "cell_type": "code",
   "execution_count": null,
   "metadata": {
    "id": "mhOGHL_up2_o"
   },
   "outputs": [],
   "source": [
    "# juntamos los 3 conjuntos\n",
    "proporcion_entrenamiento = 0.7\n",
    "proporcion_validacion = 0.2\n",
    "proporcion_prueba = 0.1\n",
    "\n",
    "# Calcular el tamaño de cada conjunto\n",
    "tamano_datos = len(x)\n",
    "tamano_entrenamiento = int(proporcion_entrenamiento * tamano_datos)\n",
    "tamano_validacion = int(proporcion_validacion * tamano_datos)\n",
    "\n",
    "# Calcular los índices de división\n",
    "indice_entrenamiento = tamano_entrenamiento\n",
    "indice_validacion = tamano_entrenamiento + tamano_validacion\n",
    "\n",
    "# Crear los conjuntos de datos\n",
    "x_train = x[:indice_entrenamiento].drop(['club_id','opponent_id','index'],axis=1)\n",
    "x_test = x[indice_entrenamiento:indice_validacion].drop(['club_id','opponent_id','index'],axis=1)\n",
    "x_validate = x[indice_validacion:].drop(['club_id','opponent_id','index'],axis=1)\n",
    "y_train = y[:indice_entrenamiento]\n",
    "y_test = y[indice_entrenamiento:indice_validacion]\n",
    "y_validate = y[indice_validacion:]\n",
    "validate_local_id=x[:indice_entrenamiento]['club_id']\n",
    "validate_visit_id=x[:indice_entrenamiento]['opponent_id']\n"
   ]
  },
  {
   "cell_type": "code",
   "execution_count": null,
   "metadata": {
    "id": "0JMNKdpfa4N9"
   },
   "outputs": [],
   "source": []
  },
  {
   "cell_type": "markdown",
   "metadata": {
    "id": "USesJJd8p2_o"
   },
   "source": [
    "# Escalamiento"
   ]
  },
  {
   "cell_type": "code",
   "execution_count": null,
   "metadata": {
    "id": "i73fXKhRp2_o"
   },
   "outputs": [],
   "source": [
    "scaler=MinMaxScaler()\n",
    "scaler.fit(x_train)\n",
    "X_scaled=pd.DataFrame(scaler.transform(x_train), columns=x_train.columns)\n",
    "X_test_scaled=pd.DataFrame(scaler.transform(x_test), columns=x_train.columns)\n",
    "X_validate_scaled=pd.DataFrame(scaler.transform(x_validate), columns=x_train.columns)\n"
   ]
  },
  {
   "cell_type": "code",
   "execution_count": null,
   "metadata": {
    "colab": {
     "base_uri": "https://localhost:8080/",
     "height": 444
    },
    "id": "3aRBl12up2_o",
    "outputId": "4b0f15c8-c006-47b7-874a-c77c3198a6b1"
   },
   "outputs": [],
   "source": [
    "X_scaled\n"
   ]
  },
  {
   "cell_type": "code",
   "execution_count": null,
   "metadata": {
    "id": "6gZXtQKXp2_p"
   },
   "outputs": [],
   "source": [
    "\n",
    "# para guargar en la computadora\n",
    "X_scaled.to_csv('xs.csv', index=False)\n",
    "X_test_scaled.to_csv('xs_test.csv', index=False)\n",
    "X_validate_scaled.to_csv('xs_validate.csv', index=False)\n",
    "y_train.to_csv('y_train.csv', index=False)\n",
    "y_test.to_csv('y_test.csv', index=False)\n",
    "y_validate.to_csv('y_validate.csv', index=False)\n",
    "validate_local_id.to_csv('validate_local_id.csv', index=False)\n",
    "validate_visit_id.to_csv('validate_visit_id.csv', index=False)"
   ]
  },
  {
   "cell_type": "code",
   "execution_count": null,
   "metadata": {
    "colab": {
     "base_uri": "https://localhost:8080/"
    },
    "id": "ucjT4Bj21C0J",
    "outputId": "e682d559-8ecb-4343-c6a0-97db22e74e45"
   },
   "outputs": [],
   "source": [
    "from google.colab import drive\n",
    "drive.mount('/content/drive')"
   ]
  },
  {
   "cell_type": "markdown",
   "metadata": {
    "id": "Ng4fuBpAg6fM"
   },
   "source": [
    "# para guardar en drive"
   ]
  },
  {
   "cell_type": "code",
   "execution_count": null,
   "metadata": {
    "id": "rFrmalFc1J-U"
   },
   "outputs": [],
   "source": [
    "X_scaled.to_csv('/content/drive/My Drive/xs.csv', index=False)\n",
    "X_test_scaled.to_csv('/content/drive/My Drive/xs_test.csv', index=False)\n",
    "X_validate_scaled.to_csv('/content/drive/My Drive/xs_validate.csv', index=False)\n",
    "y_train.to_csv('/content/drive/My Drive/y_train.csv', index=False)\n",
    "y_test.to_csv('/content/drive/My Drive/y_test.csv', index=False)\n",
    "y_validate.to_csv('/content/drive/My Drive/y_validate.csv', index=False)\n",
    "validate_local_id.to_csv('/content/drive/My Drive/validate_local_id.csv', index=False)\n",
    "validate_visit_id.to_csv('/content/drive/My Drive/validate_visit_id.csv', index=False)"
   ]
  }
 ],
 "metadata": {
  "accelerator": "GPU",
  "colab": {
   "gpuType": "T4",
   "provenance": []
  },
  "kernelspec": {
   "display_name": "Python 3 (ipykernel)",
   "language": "python",
   "name": "python3"
  },
  "language_info": {
   "codemirror_mode": {
    "name": "ipython",
    "version": 3
   },
   "file_extension": ".py",
   "mimetype": "text/x-python",
   "name": "python",
   "nbconvert_exporter": "python",
   "pygments_lexer": "ipython3",
   "version": "3.10.12"
  }
 },
 "nbformat": 4,
 "nbformat_minor": 4
}
